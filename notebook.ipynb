{
 "cells": [
  {
   "cell_type": "code",
   "execution_count": 1,
   "metadata": {},
   "outputs": [],
   "source": [
    "from moccasin import setup_notebook\n",
    "\n",
    "setup_notebook()"
   ]
  },
  {
   "cell_type": "code",
   "execution_count": 2,
   "metadata": {},
   "outputs": [
    {
     "name": "stdout",
     "output_type": "stream",
     "text": [
      "eth-forked\n"
     ]
    }
   ],
   "source": [
    "from moccasin.config import get_active_network, Network\n",
    "\n",
    "active_network: Network = get_active_network()\n",
    "print(active_network.name)"
   ]
  },
  {
   "cell_type": "code",
   "execution_count": 3,
   "metadata": {},
   "outputs": [
    {
     "name": "stdout",
     "output_type": "stream",
     "text": [
      "Starting setup script...\n",
      "Starting balance of WETH: 0\n",
      "Ending balance of WETH: 1000000000000000000\n",
      "Starting balance of USDC: 0\n",
      "Ending balance of USDC: 100000000\n"
     ]
    }
   ],
   "source": [
    "import boa\n",
    "from boa.contracts.abi.abi_contract import ABIContract\n",
    "from typing import Tuple\n",
    "from moccasin.config import get_active_network, Network\n",
    "\n",
    "STARTTING_ETH_BALANCE = int(1000e18)\n",
    "STARTTING_WETH_BALANCE = int(1e18)\n",
    "STARTTING_USDC_BALANCE = int(100e6)  # usdc 6 decimals!\n",
    "\n",
    "\n",
    "def _add_eth_balance():\n",
    "    boa.env.set_balance(boa.env.eoa, STARTTING_ETH_BALANCE)\n",
    "\n",
    "\n",
    "def _add_token_balance(usdc: ABIContract, weth: ABIContract):\n",
    "    our_address = boa.env.eoa\n",
    "\n",
    "    print(f\"Starting balance of WETH: {weth.balanceOf(our_address)}\")\n",
    "    weth.deposit(value=STARTTING_WETH_BALANCE)\n",
    "    print(f\"Ending balance of WETH: {weth.balanceOf(our_address)}\")\n",
    "\n",
    "    print(f\"Starting balance of USDC: {usdc.balanceOf(our_address)}\")\n",
    "    with boa.env.prank(usdc.owner()):\n",
    "        usdc.updateMasterMinter(our_address)\n",
    "    usdc.configureMinter(our_address, STARTTING_USDC_BALANCE)\n",
    "    usdc.mint(our_address, STARTTING_USDC_BALANCE)\n",
    "    print(f\"Ending balance of USDC: {usdc.balanceOf(our_address)}\")\n",
    "\n",
    "\n",
    "def setup_script() -> Tuple[ABIContract, ABIContract, ABIContract, ABIContract]:\n",
    "    print(\"Starting setup script...\")\n",
    "    active_network: Network = get_active_network()\n",
    "\n",
    "    usdc = active_network.manifest_named(\"usdc\")\n",
    "    weth = active_network.manifest_named(\"weth\")\n",
    "\n",
    "    if active_network.is_local_or_forked_network():\n",
    "        _add_eth_balance()\n",
    "        _add_token_balance(usdc, weth)\n",
    "\n",
    "\n",
    "def moccasin_main():\n",
    "    setup_script()\n",
    "\n",
    "moccasin_main()"
   ]
  },
  {
   "cell_type": "code",
   "execution_count": 4,
   "metadata": {},
   "outputs": [],
   "source": [
    "usdc = active_network.manifest_named(\"usdc\")\n",
    "weth = active_network.manifest_named(\"weth\")"
   ]
  },
  {
   "cell_type": "code",
   "execution_count": null,
   "metadata": {},
   "outputs": [],
   "source": [
    "weth.balanceOf(boa.env.eoa)\n",
    "usdc.balanceOf(boa.env.eoa)"
   ]
  }
 ],
 "metadata": {
  "kernelspec": {
   "display_name": ".venv",
   "language": "python",
   "name": "python3"
  },
  "language_info": {
   "codemirror_mode": {
    "name": "ipython",
    "version": 3
   },
   "file_extension": ".py",
   "mimetype": "text/x-python",
   "name": "python",
   "nbconvert_exporter": "python",
   "pygments_lexer": "ipython3",
   "version": "3.13.1"
  }
 },
 "nbformat": 4,
 "nbformat_minor": 2
}
