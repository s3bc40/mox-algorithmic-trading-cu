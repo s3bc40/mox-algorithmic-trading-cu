{
 "cells": [
  {
   "cell_type": "code",
   "execution_count": 1,
   "metadata": {},
   "outputs": [],
   "source": [
    "from moccasin import setup_notebook\n",
    "\n",
    "setup_notebook()"
   ]
  },
  {
   "cell_type": "code",
   "execution_count": 2,
   "metadata": {},
   "outputs": [
    {
     "name": "stdout",
     "output_type": "stream",
     "text": [
      "eth-forked\n"
     ]
    }
   ],
   "source": [
    "from moccasin.config import get_active_network, Network\n",
    "\n",
    "active_network: Network = get_active_network()\n",
    "print(active_network.name)"
   ]
  },
  {
   "cell_type": "code",
   "execution_count": 3,
   "metadata": {},
   "outputs": [
    {
     "name": "stdout",
     "output_type": "stream",
     "text": [
      "Starting setup script...\n",
      "Starting balance of WETH: 0\n",
      "Ending balance of WETH: 1000000000000000000\n",
      "Starting balance of USDC: 0\n",
      "Ending balance of USDC: 100000000\n"
     ]
    }
   ],
   "source": [
    "import boa\n",
    "from boa.contracts.abi.abi_contract import ABIContract\n",
    "from typing import Tuple\n",
    "from moccasin.config import get_active_network, Network\n",
    "\n",
    "STARTTING_ETH_BALANCE = int(1000e18)\n",
    "STARTTING_WETH_BALANCE = int(1e18)\n",
    "STARTTING_USDC_BALANCE = int(100e6)  # usdc 6 decimals!\n",
    "\n",
    "\n",
    "def _add_eth_balance():\n",
    "    boa.env.set_balance(boa.env.eoa, STARTTING_ETH_BALANCE)\n",
    "\n",
    "\n",
    "def _add_token_balance(usdc: ABIContract, weth: ABIContract):\n",
    "    our_address = boa.env.eoa\n",
    "\n",
    "    print(f\"Starting balance of WETH: {weth.balanceOf(our_address)}\")\n",
    "    weth.deposit(value=STARTTING_WETH_BALANCE)\n",
    "    print(f\"Ending balance of WETH: {weth.balanceOf(our_address)}\")\n",
    "\n",
    "    print(f\"Starting balance of USDC: {usdc.balanceOf(our_address)}\")\n",
    "    with boa.env.prank(usdc.owner()):\n",
    "        usdc.updateMasterMinter(our_address)\n",
    "    usdc.configureMinter(our_address, STARTTING_USDC_BALANCE)\n",
    "    usdc.mint(our_address, STARTTING_USDC_BALANCE)\n",
    "    print(f\"Ending balance of USDC: {usdc.balanceOf(our_address)}\")\n",
    "\n",
    "\n",
    "def setup_script() -> Tuple[ABIContract, ABIContract, ABIContract, ABIContract]:\n",
    "    print(\"Starting setup script...\")\n",
    "    active_network: Network = get_active_network()\n",
    "\n",
    "    usdc = active_network.manifest_named(\"usdc\")\n",
    "    weth = active_network.manifest_named(\"weth\")\n",
    "\n",
    "    if active_network.is_local_or_forked_network():\n",
    "        _add_eth_balance()\n",
    "        _add_token_balance(usdc, weth)\n",
    "\n",
    "\n",
    "def moccasin_main():\n",
    "    setup_script()\n",
    "\n",
    "moccasin_main()"
   ]
  },
  {
   "cell_type": "code",
   "execution_count": 4,
   "metadata": {},
   "outputs": [],
   "source": [
    "usdc = active_network.manifest_named(\"usdc\")\n",
    "weth = active_network.manifest_named(\"weth\")"
   ]
  },
  {
   "cell_type": "code",
   "execution_count": 5,
   "metadata": {},
   "outputs": [
    {
     "data": {
      "text/plain": [
       "100000000"
      ]
     },
     "execution_count": 5,
     "metadata": {},
     "output_type": "execute_result"
    }
   ],
   "source": [
    "weth.balanceOf(boa.env.eoa)\n",
    "usdc.balanceOf(boa.env.eoa)"
   ]
  },
  {
   "cell_type": "code",
   "execution_count": 8,
   "metadata": {},
   "outputs": [
    {
     "name": "stdout",
     "output_type": "stream",
     "text": [
      "0x87870Bca3F3fD6335C3F4ce8392D69350B4fA4E2\n"
     ]
    }
   ],
   "source": [
    "from moccasin.config import get_or_initialize_config, Config\n",
    "\n",
    "config: Config = get_or_initialize_config()\n",
    "config.reload()\n",
    "active_network = config.get_active_network()\n",
    "aavev3_pool_address_provider = active_network.manifest_named(\"aavev3_pool_address_provider\")\n",
    "pool_address = aavev3_pool_address_provider.getPool()\n",
    "print(pool_address)\n",
    "\n",
    "config.reload()\n",
    "active_network = config.get_active_network()\n",
    "pool_contract = active_network.manifest_named(\"pool\", address=pool_address)"
   ]
  },
  {
   "cell_type": "code",
   "execution_count": 10,
   "metadata": {},
   "outputs": [
    {
     "name": "stdout",
     "output_type": "stream",
     "text": [
      "Depositing 100000000 USD Coin into Aave contract pool 0x87870Bca3F3fD6335C3F4ce8392D69350B4fA4E2\n",
      "Depositing 1000000000000000000 Wrapped Ether into Aave contract pool 0x87870Bca3F3fD6335C3F4ce8392D69350B4fA4E2\n",
      "User account data:\n",
      "        totalCollateralBase: 322869956374\n",
      "        totalDebtBase: 0\n",
      "        availableBorrowsBase: 259329148960\n",
      "        currentLiquidationThreshold: 8284\n",
      "        ltv: 8032\n",
      "        healthFactor: 115792089237316195423570985008687907853269984665640564039457584007913129639935\n",
      "          \n"
     ]
    }
   ],
   "source": [
    "REFERAL_CODE = 0\n",
    "\n",
    "def deposit(pool_contract, token, amount):\n",
    "    allowed_amount = token.allowance(boa.env.eoa, pool_contract.address)\n",
    "    if allowed_amount < amount:\n",
    "        token.approve(pool_contract.address, amount)\n",
    "    print(f\"Depositing {amount} {token.name()} into Aave contract pool {pool_contract.address}\")\n",
    "    pool_contract.supply(token.address, amount, boa.env.eoa, REFERAL_CODE)\n",
    "\n",
    "usdc_balance = usdc.balanceOf(boa.env.eoa)\n",
    "weth_balance = weth.balanceOf(boa.env.eoa)\n",
    "\n",
    "if usdc_balance > 0:\n",
    "    deposit(pool_contract, usdc, usdc_balance)\n",
    "\n",
    "if weth_balance > 0:\n",
    "    deposit(pool_contract, weth, weth_balance)\n",
    "\n",
    "\n",
    "(\n",
    "    totalCollateralBase,\n",
    "    totalDebtBase,\n",
    "    availableBorrowsBase,\n",
    "    currentLiquidationThreshold,\n",
    "    ltv,\n",
    "    healthFactor,\n",
    ") = pool_contract.getUserAccountData(boa.env.eoa)\n",
    "print(f\"\"\"User account data:\n",
    "        totalCollateralBase: {totalCollateralBase}\n",
    "        totalDebtBase: {totalDebtBase}\n",
    "        availableBorrowsBase: {availableBorrowsBase}\n",
    "        currentLiquidationThreshold: {currentLiquidationThreshold}\n",
    "        ltv: {ltv}\n",
    "        healthFactor: {healthFactor}\n",
    "          \"\"\")"
   ]
  }
 ],
 "metadata": {
  "kernelspec": {
   "display_name": ".venv",
   "language": "python",
   "name": "python3"
  },
  "language_info": {
   "codemirror_mode": {
    "name": "ipython",
    "version": 3
   },
   "file_extension": ".py",
   "mimetype": "text/x-python",
   "name": "python",
   "nbconvert_exporter": "python",
   "pygments_lexer": "ipython3",
   "version": "3.13.1"
  }
 },
 "nbformat": 4,
 "nbformat_minor": 2
}
